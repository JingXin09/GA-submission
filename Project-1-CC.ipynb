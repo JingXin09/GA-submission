{
 "cells": [
  {
   "cell_type": "markdown",
   "metadata": {},
   "source": [
    "<img src=\"http://imgur.com/1ZcRyrc.png\" style=\"float: left; margin: 20px; height: 55px\">\n",
    "\n",
    "# Project 1: Python Coding Exercises\n",
    "\n",
    "_Authors: Joseph Nelson (DC) _\n",
    "\n",
    "---"
   ]
  },
  {
   "cell_type": "markdown",
   "metadata": {},
   "source": [
    "The following code challenges are drawn from common exercises used in technical interviews.\n",
    "\n",
    "Please note that there may be several ways to approach each challenge. If you get stuck, try mapping out your approach in pseudocode first. Finally, while solutions to problems like these may be found online, remember that if you copy/paste code that you can't explain, you'll be missing out on the point of the project. The only way to truly learn a new skill is through practice, trial, and error - we can only help you improve by understanding where you are having trouble."
   ]
  },
  {
   "cell_type": "markdown",
   "metadata": {},
   "source": [
    "### Challenge 1: Largest Palindrome\n",
    "A palindromic number reads the same both ways. For example, 1234321 is a palindrome. The largest palindrome made from the product of two two-digit numbers is 9009 = 91 × 99. Find the largest palindrome made from the product of two three-digit numbers. Afterward, write a brief explanation walking through your code's logic in markdown."
   ]
  },
  {
   "cell_type": "code",
   "execution_count": 140,
   "metadata": {},
   "outputs": [
    {
     "name": "stdout",
     "output_type": "stream",
     "text": [
      "906609\n"
     ]
    }
   ],
   "source": [
    "a = 993 * 913\n",
    "print(a)"
   ]
  },
  {
   "cell_type": "code",
   "execution_count": 26,
   "metadata": {},
   "outputs": [
    {
     "name": "stdout",
     "output_type": "stream",
     "text": [
      "906609\n"
     ]
    }
   ],
   "source": [
    "pal = 0\n",
    "for i in range(100,1000):\n",
    "    for j in range(100,1000): #have to separate i and j in two line, cannot combine i and j to be write in one line\n",
    "        mult = i * j \n",
    "        if str(mult) == str(mult)[::-1]: #check if the number is palindrome, (it starts from the end, towards the first, taking each element)\n",
    "            if mult > pal: \n",
    "                pal = mult\n",
    "print (pal)"
   ]
  },
  {
   "cell_type": "markdown",
   "metadata": {},
   "source": [
    "\n",
    "### Challenge 2: Summation of Primes\n",
    "The sum of the primes below 10 is 2 + 3 + 5 + 7 = 17. Find the sum of all the primes below 2,000. Afterward, write a brief explanation walking through your code's logic in markdown."
   ]
  },
  {
   "cell_type": "code",
   "execution_count": 27,
   "metadata": {},
   "outputs": [
    {
     "name": "stdout",
     "output_type": "stream",
     "text": [
      "277050\n"
     ]
    }
   ],
   "source": [
    "lst=[]\n",
    "for num in range(2,2000):\n",
    "    if num > 1:\n",
    "        for i in range(2,num):\n",
    "            if (num % i) == 0:\n",
    "                break\n",
    "        else:\n",
    "            lst.append(num)\n",
    "            \n",
    "sum=0\n",
    "for i in lst:\n",
    "    sum=sum+i\n",
    "print(sum)"
   ]
  },
  {
   "cell_type": "markdown",
   "metadata": {},
   "source": [
    "### Challenge 3: Multiples of 3 and 5\n",
    "If we list all of the natural numbers below 10 that are multiples of 3 or 5, we get 3, 5, 6, and 9. The sum of these multiples is 23. Find the sum of all the multiples of 3 and 5 below 1,000. Afterward, write a brief explanation walking through your code's logic in markdown."
   ]
  },
  {
   "cell_type": "code",
   "execution_count": 72,
   "metadata": {},
   "outputs": [
    {
     "name": "stdout",
     "output_type": "stream",
     "text": [
      "233168\n"
     ]
    }
   ],
   "source": [
    "sum = 0\n",
    "for i in range (1,1000):\n",
    "        if (i%3)==0 or (i%5)==0:\n",
    "            sum = sum + i\n",
    "print(sum)"
   ]
  },
  {
   "cell_type": "markdown",
   "metadata": {},
   "source": [
    "### Challenge 4: String Compressor\n",
    "Implement a method to perform basic string compression using the counts of repeated characters. (This is called run-length encoding.) For example, the string \"aabcccccaaa\" would become a2b1c5a3. If the “compressed” string would not become smaller than the original string, your method should return the original string. You can assume the string has only uppercase and lowercase letters (a–z). Specify whether your solution is case sensitive or case insensitive and what you would need to change to make it the other. Afterward, write a brief explanation walking through your code's logic in markdown."
   ]
  },
  {
   "cell_type": "code",
   "execution_count": 22,
   "metadata": {},
   "outputs": [
    {
     "name": "stdout",
     "output_type": "stream",
     "text": [
      "a2b1c3C2a3"
     ]
    }
   ],
   "source": [
    "input = \"aabcccCCaaa\"\n",
    "count = 1\n",
    "for i in range(1, len(input) + 1): #12\n",
    "    if i == len(input):\n",
    "        print(input[i - 1] + str(count), end=\"\")\n",
    "        break\n",
    "    elif input[i - 1] == input[i]:\n",
    "            count = count + 1\n",
    "    else:\n",
    "        print(input[i - 1] + str(count), end=\"\")\n",
    "        count = 1"
   ]
  },
  {
   "cell_type": "markdown",
   "metadata": {},
   "source": [
    "### *BONUS* Challenge: FizzBuzz\n",
    "Write a program that prints all of the numbers from 1 to 100. For multiples of 3, instead of the number, print \"Fizz;\" for multiples of 5, print \"Buzz.\" For numbers that are multiples of both 3 and 5, print \"FizzBuzz.\" Afterward, write a brief explanation walking through your code's logic in markdown."
   ]
  },
  {
   "cell_type": "code",
   "execution_count": 28,
   "metadata": {},
   "outputs": [
    {
     "name": "stdout",
     "output_type": "stream",
     "text": [
      "loop 1\n",
      "1\n",
      "loop 2\n",
      "2\n",
      "loop 3\n",
      "Fizz\n",
      "loop 4\n",
      "4\n",
      "loop 5\n",
      "Buzz\n",
      "loop 6\n",
      "Fizz\n",
      "loop 7\n",
      "7\n",
      "loop 8\n",
      "8\n",
      "loop 9\n",
      "Fizz\n",
      "loop 10\n",
      "Buzz\n",
      "loop 11\n",
      "11\n",
      "loop 12\n",
      "Fizz\n",
      "loop 13\n",
      "13\n",
      "loop 14\n",
      "14\n",
      "loop 15\n",
      "FizzBuzz\n",
      "loop 16\n",
      "16\n",
      "loop 17\n",
      "17\n",
      "loop 18\n",
      "Fizz\n",
      "loop 19\n",
      "19\n",
      "loop 20\n",
      "Buzz\n",
      "loop 21\n",
      "Fizz\n",
      "loop 22\n",
      "22\n",
      "loop 23\n",
      "23\n",
      "loop 24\n",
      "Fizz\n",
      "loop 25\n",
      "Buzz\n",
      "loop 26\n",
      "26\n",
      "loop 27\n",
      "Fizz\n",
      "loop 28\n",
      "28\n",
      "loop 29\n",
      "29\n",
      "loop 30\n",
      "FizzBuzz\n",
      "loop 31\n",
      "31\n",
      "loop 32\n",
      "32\n",
      "loop 33\n",
      "Fizz\n",
      "loop 34\n",
      "34\n",
      "loop 35\n",
      "Buzz\n",
      "loop 36\n",
      "Fizz\n",
      "loop 37\n",
      "37\n",
      "loop 38\n",
      "38\n",
      "loop 39\n",
      "Fizz\n",
      "loop 40\n",
      "Buzz\n",
      "loop 41\n",
      "41\n",
      "loop 42\n",
      "Fizz\n",
      "loop 43\n",
      "43\n",
      "loop 44\n",
      "44\n",
      "loop 45\n",
      "FizzBuzz\n",
      "loop 46\n",
      "46\n",
      "loop 47\n",
      "47\n",
      "loop 48\n",
      "Fizz\n",
      "loop 49\n",
      "49\n",
      "loop 50\n",
      "Buzz\n",
      "loop 51\n",
      "Fizz\n",
      "loop 52\n",
      "52\n",
      "loop 53\n",
      "53\n",
      "loop 54\n",
      "Fizz\n",
      "loop 55\n",
      "Buzz\n",
      "loop 56\n",
      "56\n",
      "loop 57\n",
      "Fizz\n",
      "loop 58\n",
      "58\n",
      "loop 59\n",
      "59\n",
      "loop 60\n",
      "FizzBuzz\n",
      "loop 61\n",
      "61\n",
      "loop 62\n",
      "62\n",
      "loop 63\n",
      "Fizz\n",
      "loop 64\n",
      "64\n",
      "loop 65\n",
      "Buzz\n",
      "loop 66\n",
      "Fizz\n",
      "loop 67\n",
      "67\n",
      "loop 68\n",
      "68\n",
      "loop 69\n",
      "Fizz\n",
      "loop 70\n",
      "Buzz\n",
      "loop 71\n",
      "71\n",
      "loop 72\n",
      "Fizz\n",
      "loop 73\n",
      "73\n",
      "loop 74\n",
      "74\n",
      "loop 75\n",
      "FizzBuzz\n",
      "loop 76\n",
      "76\n",
      "loop 77\n",
      "77\n",
      "loop 78\n",
      "Fizz\n",
      "loop 79\n",
      "79\n",
      "loop 80\n",
      "Buzz\n",
      "loop 81\n",
      "Fizz\n",
      "loop 82\n",
      "82\n",
      "loop 83\n",
      "83\n",
      "loop 84\n",
      "Fizz\n",
      "loop 85\n",
      "Buzz\n",
      "loop 86\n",
      "86\n",
      "loop 87\n",
      "Fizz\n",
      "loop 88\n",
      "88\n",
      "loop 89\n",
      "89\n",
      "loop 90\n",
      "FizzBuzz\n",
      "loop 91\n",
      "91\n",
      "loop 92\n",
      "92\n",
      "loop 93\n",
      "Fizz\n",
      "loop 94\n",
      "94\n",
      "loop 95\n",
      "Buzz\n",
      "loop 96\n",
      "Fizz\n",
      "loop 97\n",
      "97\n",
      "loop 98\n",
      "98\n",
      "loop 99\n",
      "Fizz\n",
      "loop 100\n",
      "Buzz\n"
     ]
    }
   ],
   "source": [
    "for i in range (1,101):\n",
    "    print(\"loop\",i)\n",
    "    if (i%3)==0 and (i%5)==0:\n",
    "        print(\"FizzBuzz\")\n",
    "    elif (i%3)==0:\n",
    "        print(\"Fizz\")\n",
    "    elif (i%5)==0:\n",
    "        print(\"Buzz\")\n",
    "    else:\n",
    "        print(i)         "
   ]
  },
  {
   "cell_type": "code",
   "execution_count": null,
   "metadata": {},
   "outputs": [],
   "source": []
  }
 ],
 "metadata": {
  "anaconda-cloud": {},
  "kernelspec": {
   "display_name": "Python 3",
   "language": "python",
   "name": "python3"
  },
  "language_info": {
   "codemirror_mode": {
    "name": "ipython",
    "version": 3
   },
   "file_extension": ".py",
   "mimetype": "text/x-python",
   "name": "python",
   "nbconvert_exporter": "python",
   "pygments_lexer": "ipython3",
   "version": "3.7.3"
  }
 },
 "nbformat": 4,
 "nbformat_minor": 2
}
